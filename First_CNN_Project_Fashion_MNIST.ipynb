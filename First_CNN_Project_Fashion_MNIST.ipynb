{
  "nbformat": 4,
  "nbformat_minor": 0,
  "metadata": {
    "colab": {
      "name": "First_CNN Project Fashion_MNIST.ipynb",
      "provenance": [],
      "private_outputs": true,
      "collapsed_sections": []
    },
    "kernelspec": {
      "name": "python3",
      "display_name": "Python 3"
    },
    "language_info": {
      "name": "python"
    },
    "accelerator": "GPU"
  },
  "cells": [
    {
      "cell_type": "code",
      "execution_count": null,
      "metadata": {
        "id": "qQsmHXre1VsR"
      },
      "outputs": [],
      "source": [
        ""
      ]
    },
    {
      "cell_type": "markdown",
      "source": [
        "### Building CNN- Convolutional Neural Network"
      ],
      "metadata": {
        "id": "mvTfQg3V1wYL"
      }
    },
    {
      "cell_type": "markdown",
      "source": [
        "#### Project Fashion-Classification-End to End"
      ],
      "metadata": {
        "id": "lP47HmuJ165J"
      }
    },
    {
      "cell_type": "markdown",
      "source": [
        "Train Convolutional Neural Network on 60,000 Fashion MNIST images (data in NP array)\n",
        "\n",
        "Test Convolutional Neural Network on 60,000 Fashion MNIST Images (data in NP array)"
      ],
      "metadata": {
        "id": "_hJMprpV19jU"
      }
    },
    {
      "cell_type": "code",
      "source": [
        "# !pip install matplotlib-venn"
      ],
      "metadata": {
        "id": "j5IQcx6g8igH"
      },
      "execution_count": null,
      "outputs": []
    },
    {
      "cell_type": "code",
      "source": [
        "# https://pypi.python.org/pypi/libarchive\n",
        "# !apt-get -qq install -y libarchive-dev && pip install -U libarchive\n",
        "# import libarchive"
      ],
      "metadata": {
        "id": "3F3c-XZ08mEg"
      },
      "execution_count": null,
      "outputs": []
    },
    {
      "cell_type": "code",
      "source": [
        "# https://pypi.python.org/pypi/pydot\n",
        "# !apt-get -qq install -y graphviz && pip install pydot\n",
        "# import pydot"
      ],
      "metadata": {
        "id": "rGuo4rMQ8ndJ"
      },
      "execution_count": null,
      "outputs": []
    },
    {
      "cell_type": "code",
      "source": [
        "# !pip install cartopy\n",
        "# import cartopy"
      ],
      "metadata": {
        "id": "OhfhXn458rmD"
      },
      "execution_count": null,
      "outputs": []
    },
    {
      "cell_type": "code",
      "source": [
        ""
      ],
      "metadata": {
        "id": "X4zFtkO98sh1"
      },
      "execution_count": null,
      "outputs": []
    },
    {
      "cell_type": "code",
      "source": [
        "## Import Libraries"
      ],
      "metadata": {
        "id": "YEvmxmjy11Hd"
      },
      "execution_count": null,
      "outputs": []
    },
    {
      "cell_type": "code",
      "source": [
        "import numpy as np\n",
        "import pandas as pd\n",
        "import matplotlib.pyplot as plt\n",
        "import seaborn as sns\n",
        "import keras"
      ],
      "metadata": {
        "id": "dROn9IX32RzI"
      },
      "execution_count": null,
      "outputs": []
    },
    {
      "cell_type": "markdown",
      "source": [
        "##### Loading Dataset"
      ],
      "metadata": {
        "id": "nVyKl-XW2tid"
      }
    },
    {
      "cell_type": "code",
      "source": [
        "from keras.datasets import fashion_mnist"
      ],
      "metadata": {
        "id": "PsOim0tA2aTH"
      },
      "execution_count": null,
      "outputs": []
    },
    {
      "cell_type": "code",
      "source": [
        "(x_train, y_train ), (x_test, y_test) = fashion_mnist.load_data()"
      ],
      "metadata": {
        "id": "S2_-ckQi2nrF"
      },
      "execution_count": null,
      "outputs": []
    },
    {
      "cell_type": "code",
      "source": [
        "print(x_train.shape, y_train.shape)\n",
        "print(x_test.shape, y_test.shape)"
      ],
      "metadata": {
        "id": "XT_pNnsF3Bmc"
      },
      "execution_count": null,
      "outputs": []
    },
    {
      "cell_type": "code",
      "source": [
        "x_train[0]"
      ],
      "metadata": {
        "id": "cCQslHdx3I5S"
      },
      "execution_count": null,
      "outputs": []
    },
    {
      "cell_type": "code",
      "source": [
        "plt.imshow(x_train[0], cmap = 'gray_r')"
      ],
      "metadata": {
        "id": "8L2UrSeM3RI2"
      },
      "execution_count": null,
      "outputs": []
    },
    {
      "cell_type": "code",
      "source": [
        "y_train[0]"
      ],
      "metadata": {
        "id": "MHueFDkj3Yr-"
      },
      "execution_count": null,
      "outputs": []
    },
    {
      "cell_type": "code",
      "source": [
        "class_labels = [\"T-shirt/top\", \"Trouser\", \"Pullover\", \"Dress\", \"Coat\", \"Sandal\", \"Shirt\", \"Sneaker\", \"Bag\", \"Ankle Boot\"]\n",
        "\n",
        "# 0 : T-shrit/top\n",
        "# 1: Trouser\n",
        "# 2: Pullover\n",
        "# 3: Dress\n",
        "# 4: Coat\n",
        "# 5: Sandal\n",
        "# 6: Shirt\n",
        "# 7: Sneaker\n",
        "# 8: Bag\n",
        "# 9: Ankle Boot\n"
      ],
      "metadata": {
        "id": "mbuvqAfj3jti"
      },
      "execution_count": null,
      "outputs": []
    },
    {
      "cell_type": "code",
      "source": [
        "plt.figure(figsize = (16, 16))\n",
        "\n",
        "j=1\n",
        "for i in np.random.randint(0, 1000, 25):\n",
        "  plt.subplot(5,5, j); j+=1\n",
        "  plt.imshow(x_train[i], cmap = \"Greys\")\n",
        "  plt.axis('off')\n",
        "  plt.title(\"{} / {}\".format(class_labels[y_train[i] ], y_train[i]))"
      ],
      "metadata": {
        "id": "ZF_XCZE737as"
      },
      "execution_count": null,
      "outputs": []
    },
    {
      "cell_type": "code",
      "source": [
        ""
      ],
      "metadata": {
        "id": "aaGuQnyG5CaA"
      },
      "execution_count": null,
      "outputs": []
    },
    {
      "cell_type": "markdown",
      "source": [
        "### Changing the dimension"
      ],
      "metadata": {
        "id": "Y9-1tMlj5tjR"
      }
    },
    {
      "cell_type": "code",
      "source": [
        "x_train.ndim"
      ],
      "metadata": {
        "id": "O1DDSBNY5s0U"
      },
      "execution_count": null,
      "outputs": []
    },
    {
      "cell_type": "code",
      "source": [
        "x_train = np.expand_dims(x_train, -1)\n",
        "x_test = np.expand_dims(x_test, -1)"
      ],
      "metadata": {
        "id": "i5A3CQOO527r"
      },
      "execution_count": null,
      "outputs": []
    },
    {
      "cell_type": "code",
      "source": [
        "x_train.ndim, x_test.ndim"
      ],
      "metadata": {
        "id": "0p5jO46D6HeL"
      },
      "execution_count": null,
      "outputs": []
    },
    {
      "cell_type": "code",
      "source": [
        ""
      ],
      "metadata": {
        "id": "nQX0V3TB6Q1y"
      },
      "execution_count": null,
      "outputs": []
    },
    {
      "cell_type": "markdown",
      "source": [
        "#### Feature Scalling"
      ],
      "metadata": {
        "id": "m6tUOPAg6TwT"
      }
    },
    {
      "cell_type": "code",
      "source": [
        "\n",
        "x_train = x_train / 255\n",
        "x_test  = x_test/255"
      ],
      "metadata": {
        "id": "ByGLU2Dx6VUD"
      },
      "execution_count": null,
      "outputs": []
    },
    {
      "cell_type": "code",
      "source": [
        ""
      ],
      "metadata": {
        "id": "_QHbsVwK6lDs"
      },
      "execution_count": null,
      "outputs": []
    },
    {
      "cell_type": "markdown",
      "source": [
        "### Splitting Dataset"
      ],
      "metadata": {
        "id": "YS_mv4fX6qJm"
      }
    },
    {
      "cell_type": "code",
      "source": [
        "from sklearn.model_selection import train_test_split"
      ],
      "metadata": {
        "id": "3WJNW5iX6rz5"
      },
      "execution_count": null,
      "outputs": []
    },
    {
      "cell_type": "code",
      "source": [
        "x_train, x_val, y_train, y_val =  train_test_split(x_train, y_train, random_state = 2150, test_size = 0.25)"
      ],
      "metadata": {
        "id": "mb-EVGnh64B-"
      },
      "execution_count": null,
      "outputs": []
    },
    {
      "cell_type": "code",
      "source": [
        "print(x_train.shape, y_train.shape)\n",
        "print(x_val.shape, y_val.shape)"
      ],
      "metadata": {
        "id": "wqxV_Rzg7TF-"
      },
      "execution_count": null,
      "outputs": []
    },
    {
      "cell_type": "code",
      "source": [
        ""
      ],
      "metadata": {
        "id": "gM-eKuYK7esG"
      },
      "execution_count": null,
      "outputs": []
    },
    {
      "cell_type": "markdown",
      "source": [
        "### Convolutional Neural Network - Model Building"
      ],
      "metadata": {
        "id": "8iCZJvYO7mX6"
      }
    },
    {
      "cell_type": "code",
      "source": [
        "from keras.models import Sequential\n",
        "from keras.layers import Flatten, Dense\n",
        "\n",
        "from keras.layers import Conv2D\n",
        "from keras.layers import MaxPooling2D"
      ],
      "metadata": {
        "id": "ESUXooSe7qU6"
      },
      "execution_count": null,
      "outputs": []
    },
    {
      "cell_type": "code",
      "source": [
        "model = Sequential()\n",
        "# Adding Convolutiol layer 1\n",
        "model.add(Conv2D(strides=(1, 1), filters = 32, padding='valid',  kernel_size = 3, activation = 'relu', input_shape = [28, 28, 1] ) )\n",
        "\n",
        "# Adding MaxPooling Layer\n",
        "model.add(MaxPooling2D( pool_size = (2,2)) )\n",
        "\n",
        "# Flattening the layer\n",
        "model.add(Flatten())\n",
        "\n",
        "# Adding Dense layer\n",
        "model.add(Dense(units = 128, activation = 'relu'))\n",
        "\n",
        "# Output layer\n",
        "model.add(Dense(units = 10, activation = 'softmax'))"
      ],
      "metadata": {
        "id": "DE3BhvHz7uFi"
      },
      "execution_count": null,
      "outputs": []
    },
    {
      "cell_type": "code",
      "source": [
        "model.summary()"
      ],
      "metadata": {
        "id": "GguPetAf-TL8"
      },
      "execution_count": null,
      "outputs": []
    },
    {
      "cell_type": "code",
      "source": [
        "model.compile( optimizer = 'adam', metrics = 'accuracy', loss = 'sparse_categorical_crossentropy' )"
      ],
      "metadata": {
        "id": "3XBfbner_meH"
      },
      "execution_count": null,
      "outputs": []
    },
    {
      "cell_type": "code",
      "source": [
        "print(x_train.shape)"
      ],
      "metadata": {
        "id": "vl5pEGvKByRZ"
      },
      "execution_count": null,
      "outputs": []
    },
    {
      "cell_type": "code",
      "source": [
        "model.fit(x_train, y_train,batch_size = 600, epochs = 10 , verbose = 1, validation_data = (x_val, y_val))"
      ],
      "metadata": {
        "id": "MnOgKCmVABX5"
      },
      "execution_count": null,
      "outputs": []
    },
    {
      "cell_type": "code",
      "source": [
        ""
      ],
      "metadata": {
        "id": "UgJYQo6GBczO"
      },
      "execution_count": null,
      "outputs": []
    },
    {
      "cell_type": "markdown",
      "source": [
        "### Test the model"
      ],
      "metadata": {
        "id": "2bhesQ-BCqt2"
      }
    },
    {
      "cell_type": "code",
      "source": [
        "x_test.shape"
      ],
      "metadata": {
        "id": "eGS95TB0Cs8B"
      },
      "execution_count": null,
      "outputs": []
    },
    {
      "cell_type": "code",
      "source": [
        "# expanding dim for test (4)\n",
        "\n",
        "model.predict(np.expand_dims(x_test[0], axis = 0)).round(2)"
      ],
      "metadata": {
        "id": "Dbb7M6EVDSFX"
      },
      "execution_count": null,
      "outputs": []
    },
    {
      "cell_type": "code",
      "source": [
        "np.argmax(model.predict(np.expand_dims(x_test[0], axis = 0)).round(2))"
      ],
      "metadata": {
        "id": "hrXdVsl1Cycg"
      },
      "execution_count": null,
      "outputs": []
    },
    {
      "cell_type": "code",
      "source": [
        "y_test[0]"
      ],
      "metadata": {
        "id": "OQ1pV5iQEKh_"
      },
      "execution_count": null,
      "outputs": []
    },
    {
      "cell_type": "code",
      "source": [
        "y_pred = model.predict(x_test, ).round(2)\n",
        "y_pred"
      ],
      "metadata": {
        "id": "D_sBdQUNERuj"
      },
      "execution_count": null,
      "outputs": []
    },
    {
      "cell_type": "code",
      "source": [
        "model.evaluate(x_test, y_test)"
      ],
      "metadata": {
        "id": "vhvV1ua5E74C"
      },
      "execution_count": null,
      "outputs": []
    },
    {
      "cell_type": "markdown",
      "source": [
        "## Visulize output"
      ],
      "metadata": {
        "id": "67z_WYUjFyhR"
      }
    },
    {
      "cell_type": "code",
      "source": [
        "np.argmax(y_pred[0])"
      ],
      "metadata": {
        "id": "x1Xg6xMsHyS6"
      },
      "execution_count": null,
      "outputs": []
    },
    {
      "cell_type": "code",
      "source": [
        "plt.figure(figsize = (16, 30))\n",
        "\n",
        "j =1\n",
        "for i in np.random.randint(0, 1000, 60 ):\n",
        "  plt.subplot(10, 6, j);j+=1\n",
        "  plt.imshow(x_test[i].reshape(28,28), cmap = 'Greys')\n",
        "  plt.title(\"Actual: {} / {} \\nPredicted: {} / {}\".format(class_labels[y_test[i]], y_test[i], class_labels[ np.argmax(y_pred[i]) ], np.argmax(y_pred[i]) ))\n",
        "  plt.axis('off')\n"
      ],
      "metadata": {
        "id": "dfarpITwFTTM"
      },
      "execution_count": null,
      "outputs": []
    },
    {
      "cell_type": "code",
      "source": [
        ""
      ],
      "metadata": {
        "id": "91_4OJ5pHFJF"
      },
      "execution_count": null,
      "outputs": []
    },
    {
      "cell_type": "markdown",
      "source": [
        "#### Confusion Matrix"
      ],
      "metadata": {
        "id": "JNE92f05KXcd"
      }
    },
    {
      "cell_type": "code",
      "source": [
        "from sklearn.metrics import confusion_matrix"
      ],
      "metadata": {
        "id": "8juMvEHjKZtZ"
      },
      "execution_count": null,
      "outputs": []
    },
    {
      "cell_type": "code",
      "source": [
        "plt.figure(figsize = (16, 9))\n",
        "y_pred_value = [np.argmax(value) for value in y_pred]\n",
        "y_pred_value[0]"
      ],
      "metadata": {
        "id": "W6sJPv16KeJC"
      },
      "execution_count": null,
      "outputs": []
    },
    {
      "cell_type": "code",
      "source": [
        "cm = confusion_matrix(y_test, y_pred_value)"
      ],
      "metadata": {
        "id": "r6XH5qq8KqoI"
      },
      "execution_count": null,
      "outputs": []
    },
    {
      "cell_type": "code",
      "source": [
        "plt.figure(figsize = (16,16))\n",
        "sns.heatmap(cm, annot = True, xticklabels = class_labels, yticklabels = class_labels)"
      ],
      "metadata": {
        "id": "77l1E6TpKz0-"
      },
      "execution_count": null,
      "outputs": []
    },
    {
      "cell_type": "code",
      "source": [
        ""
      ],
      "metadata": {
        "id": "--SQ_2HaK24F"
      },
      "execution_count": null,
      "outputs": []
    },
    {
      "cell_type": "markdown",
      "source": [
        "### Classification"
      ],
      "metadata": {
        "id": "Spc6a0cZLPoe"
      }
    },
    {
      "cell_type": "code",
      "source": [
        "from sklearn.metrics import classification_report"
      ],
      "metadata": {
        "id": "GP-UaSoGLRDP"
      },
      "execution_count": null,
      "outputs": []
    },
    {
      "cell_type": "code",
      "source": [
        "cr = classification_report(y_test, y_pred_value, target_names = class_labels)\n",
        "print(cr)"
      ],
      "metadata": {
        "id": "Dlb78bRoLXgW"
      },
      "execution_count": null,
      "outputs": []
    },
    {
      "cell_type": "code",
      "source": [
        ""
      ],
      "metadata": {
        "id": "Cgf1GYtnLg9Q"
      },
      "execution_count": null,
      "outputs": []
    },
    {
      "cell_type": "markdown",
      "source": [
        "### Model Save and Load"
      ],
      "metadata": {
        "id": "HDm66CsYNpPw"
      }
    },
    {
      "cell_type": "code",
      "source": [
        "model.save(\"Fashion_MNIST_model.h5\")"
      ],
      "metadata": {
        "id": "zI3jVaI6NrJj"
      },
      "execution_count": null,
      "outputs": []
    },
    {
      "cell_type": "code",
      "source": [
        ""
      ],
      "metadata": {
        "id": "ArDsJfjDN09o"
      },
      "execution_count": null,
      "outputs": []
    },
    {
      "cell_type": "markdown",
      "source": [
        "### Loading Model"
      ],
      "metadata": {
        "id": "F-8KHXHNN-ly"
      }
    },
    {
      "cell_type": "code",
      "source": [
        "deployed_model = keras.models.load_model('Fashion_MNIST_model.h5')"
      ],
      "metadata": {
        "id": "NDw5RoQtN__D"
      },
      "execution_count": null,
      "outputs": []
    },
    {
      "cell_type": "code",
      "source": [
        "deployed_model.predict(x_test).round(2)"
      ],
      "metadata": {
        "id": "1G5taWJeOJx6"
      },
      "execution_count": null,
      "outputs": []
    },
    {
      "cell_type": "code",
      "source": [
        "# For Deploy\n",
        "# deployed_model.predict( np.expand_dims(x_test[0], axis = 0) )"
      ],
      "metadata": {
        "id": "CLOONvKyOPr3"
      },
      "execution_count": null,
      "outputs": []
    },
    {
      "cell_type": "code",
      "source": [
        "from keras.layers import Dropout"
      ],
      "metadata": {
        "id": "At4v8c3-WbvF"
      },
      "execution_count": null,
      "outputs": []
    },
    {
      "cell_type": "markdown",
      "source": [
        "## Complex CNN Model"
      ],
      "metadata": {
        "id": "-6XZ-JWCWg2G"
      }
    },
    {
      "cell_type": "code",
      "source": [
        "model2 = Sequential()\n",
        "model2.add(Conv2D( filters = 32, kernel_size = 3, strides= (1,1), padding = 'valid', activation = 'relu'  ))\n",
        "model2.add(MaxPooling2D(pool_size = (2,2 ) ) )\n",
        "model2.add(Conv2D( filters =64, kernel_size = 3, strides = (2,2), padding = 'same', activation = 'relu' ) )\n",
        "model2.add(MaxPooling2D( pool_size=(2, 2)  ))\n",
        "model2.add(Flatten())\n",
        "model2.add(Dense(units = 128, activation = 'relu' ))\n",
        "model2.add(Dropout(0.20))\n",
        "model2.add(Dense(units = 256, activation = 'relu'))\n",
        "model2.add(Dropout(0.20))\n",
        "model2.add(Dense( units = 128, activation = 'relu' ))\n",
        "model2.add(Dropout(0.20) )\n",
        "model2.add(Dense(units = 10, activation = 'Softmax'))"
      ],
      "metadata": {
        "id": "ySwxSdUsWdGF"
      },
      "execution_count": null,
      "outputs": []
    },
    {
      "cell_type": "code",
      "source": [
        "# Compile the model\n",
        "model2.compile(optimizer = 'adam', loss = 'sparse_categorical_crossentropy' , metrics = ['accuracy'])"
      ],
      "metadata": {
        "id": "jzICkRPWWe3f"
      },
      "execution_count": null,
      "outputs": []
    },
    {
      "cell_type": "code",
      "source": [
        "# Train the model\n",
        "model2.fit(x_train, y_train, epochs = 25, batch_size = 600, verbose = 1, validation_data = (x_val, y_val))"
      ],
      "metadata": {
        "id": "eMC0rZJyadQF"
      },
      "execution_count": null,
      "outputs": []
    },
    {
      "cell_type": "code",
      "source": [
        "model2.evaluate(x_test, y_test)"
      ],
      "metadata": {
        "id": "oBwcrvCza7O7"
      },
      "execution_count": null,
      "outputs": []
    },
    {
      "cell_type": "code",
      "source": [
        "# conv\n",
        "# max\n",
        "# con\n",
        "# max\n",
        "# con\n",
        "# max\n",
        "# flatten\n",
        "# dense\n",
        "# drop\n",
        "# dense\n",
        "# drop\n",
        "# dense\n",
        "# drop\n",
        "# dense\n",
        "# drop\n",
        "# dense\n"
      ],
      "metadata": {
        "id": "oxgr3cChbM2U"
      },
      "execution_count": null,
      "outputs": []
    },
    {
      "cell_type": "code",
      "source": [
        "import tensorflow as tf"
      ],
      "metadata": {
        "id": "5KRa5TlPiNW-"
      },
      "execution_count": null,
      "outputs": []
    },
    {
      "cell_type": "markdown",
      "source": [
        "### Very Complex Model"
      ],
      "metadata": {
        "id": "Yd7sBU5ibRjV"
      }
    },
    {
      "cell_type": "code",
      "source": [
        "model3 = Sequential()\n",
        "model3.add(Conv2D( filters = 64, kernel_size = 3, strides= (1,1), padding = 'valid', activation = 'relu'  ))\n",
        "model3.add(MaxPooling2D(pool_size = (2,2 ) ) )\n",
        "model3.add(Conv2D( filters =128, kernel_size = 3, strides = (2,2), padding = 'same', activation = 'relu' ) )\n",
        "model3.add(MaxPooling2D( pool_size=(2, 2)  ))\n",
        "model3.add(Conv2D( filters =64, kernel_size = 3, strides = (2,2), padding = 'same', activation = 'relu' ) )\n",
        "model3.add(MaxPooling2D( pool_size=(2, 2)  ))\n",
        "\n",
        "model3.add(Flatten())\n",
        "model3.add(Dense(units = 128, activation = 'relu' ))\n",
        "model3.add(Dropout(0.25))\n",
        "\n",
        "model3.add(Dense(units = 256, activation = 'relu' ))\n",
        "model3.add(Dropout(0.50))\n",
        "\n",
        "model3.add(Dense(units = 256, activation = 'relu'))\n",
        "model3.add(Dropout(0.25))\n",
        "\n",
        "model3.add(Dense( units = 128, activation = 'relu' ))\n",
        "model3.add(Dropout(0.10) )\n",
        "model3.add(Dense(units = 10, activation = 'softmax'))"
      ],
      "metadata": {
        "id": "IfDMljP_jqrp"
      },
      "execution_count": null,
      "outputs": []
    },
    {
      "cell_type": "code",
      "source": [
        "# Complie \n",
        "# model3.compile(optimizer='adam', metrics=['accuracy'] ) \n",
        "model3.compile(optimizer='adam',loss = tf.keras.losses.SparseCategoricalCrossentropy(from_logits=True), metrics=['accuracy'])"
      ],
      "metadata": {
        "id": "6yFKhLNud51D"
      },
      "execution_count": null,
      "outputs": []
    },
    {
      "cell_type": "code",
      "source": [
        "# Train the model\n",
        "model3.fit(x_train, y_train, epochs = 50, batch_size = 512, verbose = 1, validation_data = (x_val, y_val))"
      ],
      "metadata": {
        "id": "tj74Fjmeedco"
      },
      "execution_count": null,
      "outputs": []
    },
    {
      "cell_type": "code",
      "source": [
        ""
      ],
      "metadata": {
        "id": "MfG6xluqe8AQ"
      },
      "execution_count": null,
      "outputs": []
    }
  ]
}