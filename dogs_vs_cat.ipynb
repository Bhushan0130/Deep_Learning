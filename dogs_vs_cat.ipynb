{
  "cells": [
    {
      "cell_type": "code",
      "execution_count": null,
      "metadata": {
        "colab": {
          "base_uri": "https://localhost:8080/"
        },
        "id": "saizNP1cy3bB",
        "outputId": "e6c8bade-2853-4ff6-de9e-a263a78ba990"
      },
      "outputs": [
        {
          "name": "stdout",
          "output_type": "stream",
          "text": [
            "/content/drive/MyDrive/dogs-vs-cats\n"
          ]
        }
      ],
      "source": [
        "cd/content/drive/MyDrive/dogs-vs-cats"
      ]
    },
    {
      "cell_type": "markdown",
      "metadata": {
        "id": "zJDzYTsI1s08"
      },
      "source": [
        "## Extract all the files from zip"
      ]
    },
    {
      "cell_type": "code",
      "execution_count": null,
      "metadata": {
        "id": "i1UWO9Co1vsC"
      },
      "outputs": [],
      "source": [
        "from zipfile import ZipFile\n",
        "import os\n",
        "from os import makedirs"
      ]
    },
    {
      "cell_type": "code",
      "execution_count": null,
      "metadata": {
        "id": "46mjWA8v1z3-"
      },
      "outputs": [],
      "source": [
        "with ZipFile ('train.zip', 'r') as zipObj:\n",
        "  # Extract all the contents of Zip file in current directory\n",
        "  zipObj.extractall()\n",
        "\n",
        "with ZipFile ('test1.zip', 'r') as zipObj:\n",
        "  # Extract all the contents of zip file in current directory\n",
        "  zipObj.extractall()"
      ]
    },
    {
      "cell_type": "markdown",
      "metadata": {
        "id": "AhGSsXoc25Hw"
      },
      "source": [
        "## Create sub directories so the data is in this format"
      ]
    },
    {
      "cell_type": "code",
      "execution_count": null,
      "metadata": {
        "id": "afJPo5Iv2s2C"
      },
      "outputs": [],
      "source": [
        "# -dataset_dogs_vs_cats\n",
        "#     -train\n",
        "#         --dogs\n",
        "#         --cats\n",
        "#     -test\n",
        "#         --dogs\n",
        "#         --cats"
      ]
    },
    {
      "cell_type": "code",
      "execution_count": null,
      "metadata": {
        "id": "cfk9wTUH3Pzi"
      },
      "outputs": [],
      "source": [
        "# Create directories\n",
        "dataset_name = 'dataset_dogs_vs_cats/'\n",
        "subdirs = ['train/', 'test/']\n",
        "\n",
        "for subdir in subdirs:\n",
        "  labeldirs = ['dogs/', 'cats/']\n",
        "  for labeldir in labeldirs:\n",
        "    newdir = dataset_name + subdir + labeldir\n",
        "    makedirs(newdir, exist_ok = True)  "
      ]
    },
    {
      "cell_type": "markdown",
      "metadata": {
        "id": "63VyICrB40f_"
      },
      "source": [
        "## Now change your dataset to fit this format"
      ]
    },
    {
      "cell_type": "code",
      "execution_count": null,
      "metadata": {
        "id": "DGRPgG0W4HLC"
      },
      "outputs": [],
      "source": [
        "from os import makedirs\n",
        "from os import listdir\n",
        "from shutil import copyfile\n",
        "# Create directories\n",
        "from random import seed , random"
      ]
    },
    {
      "cell_type": "code",
      "execution_count": null,
      "metadata": {
        "id": "HLBAOzmm5GId"
      },
      "outputs": [],
      "source": [
        "seed(1)"
      ]
    },
    {
      "cell_type": "markdown",
      "metadata": {
        "id": "ja9povfj5Um_"
      },
      "source": [
        "The seed() method is used to initialize the random number generator. The random number generator needs a number to start with (a seed value), to be able to generate a random number. By default the random number generator uses the current system time."
      ]
    },
    {
      "cell_type": "code",
      "execution_count": null,
      "metadata": {
        "colab": {
          "background_save": true
        },
        "id": "wYVmuYiI5HkO"
      },
      "outputs": [],
      "source": [
        "# define ratio of pictures to use for validation\n",
        "val_ratio = 0.25\n",
        "# Copy training dataset image into subdirectories\n",
        "src_directory = 'train'\n",
        "dataset_name = 'dataset_dogs_vs_cats/'\n",
        "\n",
        "for file in listdir(src_directory):\n",
        "  src = src_directory + '/' + file\n",
        "  dst_dir = 'train/'\n",
        "  if random() < val_ratio:\n",
        "    dst_dir = 'test/'\n",
        "  \n",
        "  if file.startswith('cat'):\n",
        "    dst = dataset_name + dst_dir + 'cats/'+ file\n",
        "    copyfile(src, dst)\n",
        "\n",
        "  elif file.startswith('dog'):\n",
        "    dst = dataset_name + dst_dir + 'dogs/' + file\n",
        "    copyfile(src, dst)"
      ]
    },
    {
      "cell_type": "markdown",
      "metadata": {
        "id": "bLu6fQow7Lpq"
      },
      "source": [
        "## Prepare a model for transfer learning"
      ]
    },
    {
      "cell_type": "code",
      "execution_count": null,
      "metadata": {
        "id": "xiDYfM3D633i"
      },
      "outputs": [],
      "source": [
        "from keras.applications.vgg16 import VGG16\n",
        "from keras.models import Model\n",
        "from keras.layers import Dense\n",
        "from keras.layers import Flatten\n",
        "# from keras.optimizers import SGD\n",
        "from keras.preprocessing.image import ImageDataGenerator"
      ]
    },
    {
      "cell_type": "code",
      "execution_count": null,
      "metadata": {
        "id": "_eU7r8HV-9BW"
      },
      "outputs": [],
      "source": [
        "from tensorflow.keras.optimizers import SGD"
      ]
    },
    {
      "cell_type": "code",
      "execution_count": null,
      "metadata": {
        "id": "zAixhTul7wOP",
        "colab": {
          "base_uri": "https://localhost:8080/"
        },
        "outputId": "4f1c8355-4b3e-4d84-acfb-d8273d42213f"
      },
      "outputs": [
        {
          "output_type": "stream",
          "name": "stdout",
          "text": [
            "Downloading data from https://storage.googleapis.com/tensorflow/keras-applications/vgg16/vgg16_weights_tf_dim_ordering_tf_kernels_notop.h5\n",
            "58892288/58889256 [==============================] - 1s 0us/step\n",
            "58900480/58889256 [==============================] - 1s 0us/step\n"
          ]
        }
      ],
      "source": [
        "model = VGG16(include_top = False, input_shape = (224, 224, 3))"
      ]
    },
    {
      "cell_type": "code",
      "execution_count": null,
      "metadata": {
        "id": "Hn8AVR3h775C"
      },
      "outputs": [],
      "source": [
        "# mark loaded layers as not trainable\n",
        "for layer in model.layers:\n",
        "  layer.trainable = False"
      ]
    },
    {
      "cell_type": "code",
      "execution_count": null,
      "metadata": {
        "id": "3pg6uA8b8HIn"
      },
      "outputs": [],
      "source": [
        "# Add new classifier layers\n",
        "flat1 = Flatten()(model.layers[-1].output)\n",
        "class1 = Dense(128, activation = 'relu', kernel_initializer = 'he_uniform')(flat1)\n",
        "output = Dense(1, activation = 'sigmoid')(class1)"
      ]
    },
    {
      "cell_type": "markdown",
      "metadata": {
        "id": "Z_kDZdHfAPDD"
      },
      "source": [
        "Sigmoide is used when we are having binary output\n",
        "but in case of when we are having more than one class then we use Softmax "
      ]
    },
    {
      "cell_type": "code",
      "execution_count": null,
      "metadata": {
        "id": "V9_0Z8L1-pQH"
      },
      "outputs": [],
      "source": [
        "# Define new model\n",
        "model = Model(inputs = model.inputs, outputs = output)"
      ]
    },
    {
      "cell_type": "code",
      "execution_count": null,
      "metadata": {
        "id": "PdZBN6Ep-zHt"
      },
      "outputs": [],
      "source": [
        "# compile model\n",
        "opt = SGD(learning_rate = 0.001, momentum = 0.9)\n",
        "model.compile(optimizer = opt, loss = 'binary_crossentropy', metrics = ['accuracy'])"
      ]
    },
    {
      "cell_type": "markdown",
      "metadata": {
        "id": "c2p9juq__fa-"
      },
      "source": [
        "## Run the model using Image Generator"
      ]
    },
    {
      "cell_type": "code",
      "execution_count": null,
      "metadata": {
        "id": "LfKD2EfR_cFm",
        "colab": {
          "base_uri": "https://localhost:8080/"
        },
        "outputId": "7ff707ca-df29-4420-862a-175dfbd0abc4"
      },
      "outputs": [
        {
          "output_type": "stream",
          "name": "stdout",
          "text": [
            "Found 23559 images belonging to 2 classes.\n",
            "Found 11069 images belonging to 2 classes.\n"
          ]
        }
      ],
      "source": [
        "datagen = ImageDataGenerator(featurewise_center = True)\n",
        "# Specify imagenet mean values for centering\n",
        "datagen.mean = [123.68, 116.779, 103.939]\n",
        "\n",
        "# Prepare iterator\n",
        "train_it =  datagen.flow_from_directory('dataset_dogs_vs_cats/train/', class_mode = 'binary', batch_size = 64, target_size = (224, 224))\n",
        "test_it =  datagen.flow_from_directory('dataset_dogs_vs_cats/test/', class_mode = 'binary', batch_size = 64, target_size = (224, 224))\n"
      ]
    },
    {
      "cell_type": "code",
      "execution_count": null,
      "metadata": {
        "id": "ynXA8CbUF8vg",
        "colab": {
          "base_uri": "https://localhost:8080/"
        },
        "outputId": "77959bcd-7083-4ad3-8d47-31c03fc5c5b6"
      },
      "outputs": [
        {
          "output_type": "stream",
          "name": "stdout",
          "text": [
            "{'cats': 0, 'dogs': 1}\n",
            "{'cats': 0, 'dogs': 1}\n"
          ]
        }
      ],
      "source": [
        "print(train_it.class_indices)\n",
        "print(test_it.class_indices)"
      ]
    },
    {
      "cell_type": "code",
      "execution_count": null,
      "metadata": {
        "colab": {
          "base_uri": "https://localhost:8080/"
        },
        "id": "mPZaE6eCAnZk",
        "outputId": "438c60ca-4c1c-4e16-e351-b9ecf24f34ef"
      },
      "outputs": [
        {
          "output_type": "stream",
          "name": "stderr",
          "text": [
            "/usr/local/lib/python3.7/dist-packages/ipykernel_launcher.py:3: UserWarning: `Model.fit_generator` is deprecated and will be removed in a future version. Please use `Model.fit`, which supports generators.\n",
            "  This is separate from the ipykernel package so we can avoid doing imports until\n"
          ]
        },
        {
          "output_type": "stream",
          "name": "stdout",
          "text": [
            "Epoch 1/5\n",
            "369/369 [==============================] - 1217s 3s/step - loss: 0.2197 - accuracy: 0.9659 - val_loss: 0.0338 - val_accuracy: 0.9883\n",
            "Epoch 2/5\n",
            "369/369 [==============================] - 203s 550ms/step - loss: 0.0260 - accuracy: 0.9906 - val_loss: 0.0184 - val_accuracy: 0.9948\n",
            "Epoch 3/5\n",
            "369/369 [==============================] - 205s 556ms/step - loss: 0.0077 - accuracy: 0.9980 - val_loss: 0.0124 - val_accuracy: 0.9966\n",
            "Epoch 4/5\n",
            "369/369 [==============================] - 205s 557ms/step - loss: 0.0022 - accuracy: 0.9997 - val_loss: 0.0133 - val_accuracy: 0.9968\n",
            "Epoch 5/5\n",
            "369/369 [==============================] - 205s 556ms/step - loss: 0.0012 - accuracy: 0.9998 - val_loss: 0.0141 - val_accuracy: 0.9967\n"
          ]
        }
      ],
      "source": [
        "# Fit Model\n",
        "history = model.fit_generator(train_it, steps_per_epoch = len(train_it), \n",
        "                              validation_data = test_it, validation_steps = len(test_it), epochs=5, verbose=1)"
      ]
    },
    {
      "cell_type": "code",
      "execution_count": null,
      "metadata": {
        "id": "p56LjWsIBL8W"
      },
      "outputs": [],
      "source": [
        "import matplotlib.pyplot as plt\n",
        "import sys"
      ]
    },
    {
      "cell_type": "code",
      "execution_count": null,
      "metadata": {
        "id": "dNugr9MQB_8X",
        "colab": {
          "base_uri": "https://localhost:8080/",
          "height": 181
        },
        "outputId": "011e6660-3ff2-471b-a6db-bfcf1c267e11"
      },
      "outputs": [
        {
          "output_type": "execute_result",
          "data": {
            "text/plain": [
              "[<matplotlib.lines.Line2D at 0x7f213f2d2990>]"
            ]
          },
          "metadata": {},
          "execution_count": 28
        },
        {
          "output_type": "display_data",
          "data": {
            "text/plain": [
              "<Figure size 432x288 with 1 Axes>"
            ],
            "image/png": "[encoded data removed]"
          },
          "metadata": {
            "needs_background": "light"
          }
        }
      ],
      "source": [
        "plt.subplot(211)\n",
        "plt.title('Cross Entropy Loss')\n",
        "plt.plot(history.history['loss'], color = 'blue', label = 'train')\n",
        "plt.plot(history.history['val_loss'], color = 'orange', label = 'test')"
      ]
    },
    {
      "cell_type": "code",
      "source": [
        ""
      ],
      "metadata": {
        "id": "LoamoQXUHlZx"
      },
      "execution_count": null,
      "outputs": []
    },
    {
      "cell_type": "code",
      "execution_count": null,
      "metadata": {
        "id": "flsLQe0eCtDx",
        "colab": {
          "base_uri": "https://localhost:8080/",
          "height": 181
        },
        "outputId": "8c8209f6-7b5c-4a79-a813-12a617086a67"
      },
      "outputs": [
        {
          "output_type": "execute_result",
          "data": {
            "text/plain": [
              "[<matplotlib.lines.Line2D at 0x7f213e53abd0>]"
            ]
          },
          "metadata": {},
          "execution_count": 29
        },
        {
          "output_type": "display_data",
          "data": {
            "text/plain": [
              "<Figure size 432x288 with 1 Axes>"
            ],
            "image/png": "[encoded data removed]"
          },
          "metadata": {
            "needs_background": "light"
          }
        }
      ],
      "source": [
        "plt.subplot(211)\n",
        "plt.title('Cross Entropy Loss')\n",
        "plt.plot(history.history['accuracy'], color = 'blue', label = 'train')\n",
        "plt.plot(history.history['val_accuracy'], color = 'orange', label = 'test')"
      ]
    },
    {
      "cell_type": "code",
      "execution_count": null,
      "metadata": {
        "id": "BwN89TD4DBel",
        "colab": {
          "base_uri": "https://localhost:8080/",
          "height": 35
        },
        "outputId": "316b9afb-53c1-4018-8e73-c1c01c29023f"
      },
      "outputs": [
        {
          "output_type": "display_data",
          "data": {
            "text/plain": [
              "<Figure size 432x288 with 0 Axes>"
            ]
          },
          "metadata": {}
        }
      ],
      "source": [
        "# save plot file\n",
        "filename = sys.argv[0].split('/')[-1]\n",
        "plt.savefig(filename + '_plot.png')"
      ]
    },
    {
      "cell_type": "markdown",
      "metadata": {
        "id": "tSWs9PdJDxww"
      },
      "source": [
        "## save the model for future use"
      ]
    },
    {
      "cell_type": "code",
      "execution_count": null,
      "metadata": {
        "id": "PmRXZEF3DwBa"
      },
      "outputs": [],
      "source": [
        "model.save('final_model.h5')\n"
      ]
    },
    {
      "cell_type": "code",
      "source": [
        "import tensorflow as tf"
      ],
      "metadata": {
        "id": "6uk3GHGKIT3V"
      },
      "execution_count": null,
      "outputs": []
    },
    {
      "cell_type": "markdown",
      "metadata": {
        "id": "iYbATZtDD_H6"
      },
      "source": [
        "## Predict output from model"
      ]
    },
    {
      "cell_type": "code",
      "execution_count": null,
      "metadata": {
        "id": "ogJYeCWdD9dT"
      },
      "outputs": [],
      "source": [
        "from keras.preprocessing.image import load_img\n",
        "from keras.preprocessing.image import img_to_array\n",
        "from keras.models import load_model"
      ]
    },
    {
      "cell_type": "code",
      "execution_count": null,
      "metadata": {
        "id": "2--6zjBFEkBP"
      },
      "outputs": [],
      "source": [
        "# Load and prepare the image\n",
        "# load the image\n",
        "img = load_img('/content/drive/MyDrive/dogs-vs-cats/dataset_dogs_vs_cats/test/dogs/dog.100.jpg', target_size = (224, 224))\n"
      ]
    },
    {
      "cell_type": "code",
      "source": [
        "model = load_model('/content/drive/MyDrive/dogs-vs-cats/final_model.h5')"
      ],
      "metadata": {
        "id": "pM-SKBAOKJJg"
      },
      "execution_count": null,
      "outputs": []
    },
    {
      "cell_type": "code",
      "execution_count": null,
      "metadata": {
        "id": "JgbeM6KYE6B6"
      },
      "outputs": [],
      "source": [
        "# convert to array\n",
        "img = img_to_array(img)"
      ]
    },
    {
      "cell_type": "code",
      "execution_count": null,
      "metadata": {
        "id": "1WnS3zC1FBf0"
      },
      "outputs": [],
      "source": [
        "# Reshape into a single sample with 3 channels\n",
        "img = img.reshape(1, 224, 224, 3)"
      ]
    },
    {
      "cell_type": "code",
      "execution_count": null,
      "metadata": {
        "id": "x9B7s7k4FLNC"
      },
      "outputs": [],
      "source": [
        "# Center pixel data\n",
        "img = img.astype('float32')\n",
        "img = img - [123.68, 116.779, 103.939]"
      ]
    },
    {
      "cell_type": "code",
      "execution_count": null,
      "metadata": {
        "id": "1MYi0Fl4FZxi",
        "colab": {
          "base_uri": "https://localhost:8080/"
        },
        "outputId": "c1ef1235-e084-482b-e934-3aba20983043"
      },
      "outputs": [
        {
          "output_type": "stream",
          "name": "stdout",
          "text": [
            "[1.]\n"
          ]
        }
      ],
      "source": [
        "# 1 is for dogs and 0 for cats\n",
        "result = model.predict(img)\n",
        "print(result[0])"
      ]
    },
    {
      "cell_type": "code",
      "source": [
        ""
      ],
      "metadata": {
        "id": "bkbTdxUnKjZp"
      },
      "execution_count": null,
      "outputs": []
    }
  ],
  "metadata": {
    "accelerator": "GPU",
    "colab": {
      "collapsed_sections": [],
      "name": "dogs_vs_cat.ipynb",
      "provenance": []
    },
    "kernelspec": {
      "display_name": "Python 3",
      "name": "python3"
    },
    "language_info": {
      "name": "python"
    }
  },
  "nbformat": 4,
  "nbformat_minor": 0
}