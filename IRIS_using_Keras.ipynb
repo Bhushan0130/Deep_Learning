{
  "nbformat": 4,
  "nbformat_minor": 0,
  "metadata": {
    "colab": {
      "name": "IRIS_using_Keras.ipynb",
      "provenance": [],
      "collapsed_sections": []
    },
    "kernelspec": {
      "name": "python3",
      "display_name": "Python 3"
    },
    "language_info": {
      "name": "python"
    }
  },
  "cells": [
    {
      "cell_type": "code",
      "execution_count": 29,
      "metadata": {
        "id": "jEfd2odNGiir"
      },
      "outputs": [],
      "source": [
        "import pandas as pd\n",
        "import keras\n",
        "import numpy as np\n",
        "from keras.models import Sequential\n",
        "from keras.layers import Dense\n",
        "from sklearn.preprocessing import LabelEncoder\n",
        "from sklearn.model_selection import train_test_split"
      ]
    },
    {
      "cell_type": "code",
      "source": [
        "df = pd.read_csv('https://raw.githubusercontent.com/Bhushan0130/Datasets/main/iris.csv')\n",
        "df.head()"
      ],
      "metadata": {
        "colab": {
          "base_uri": "https://localhost:8080/",
          "height": 206
        },
        "id": "PIiCPrNBGwH0",
        "outputId": "932142f3-84bc-4be1-e25a-146e99e53143"
      },
      "execution_count": 2,
      "outputs": [
        {
          "output_type": "execute_result",
          "data": {
            "text/plain": [
              "   sepal_length  sepal_width  petal_length  petal_width species\n",
              "0           5.1          3.5           1.4          0.2  setosa\n",
              "1           4.9          3.0           1.4          0.2  setosa\n",
              "2           4.7          3.2           1.3          0.2  setosa\n",
              "3           4.6          3.1           1.5          0.2  setosa\n",
              "4           5.0          3.6           1.4          0.2  setosa"
            ],
            "text/html": [
              "\n",
              "  <div id=\"df-e8f730f1-101a-413f-8034-799c547d4af8\">\n",
              "    <div class=\"colab-df-container\">\n",
              "      <div>\n",
              "<style scoped>\n",
              "    .dataframe tbody tr th:only-of-type {\n",
              "        vertical-align: middle;\n",
              "    }\n",
              "\n",
              "    .dataframe tbody tr th {\n",
              "        vertical-align: top;\n",
              "    }\n",
              "\n",
              "    .dataframe thead th {\n",
              "        text-align: right;\n",
              "    }\n",
              "</style>\n",
              "<table border=\"1\" class=\"dataframe\">\n",
              "  <thead>\n",
              "    <tr style=\"text-align: right;\">\n",
              "      <th></th>\n",
              "      <th>sepal_length</th>\n",
              "      <th>sepal_width</th>\n",
              "      <th>petal_length</th>\n",
              "      <th>petal_width</th>\n",
              "      <th>species</th>\n",
              "    </tr>\n",
              "  </thead>\n",
              "  <tbody>\n",
              "    <tr>\n",
              "      <th>0</th>\n",
              "      <td>5.1</td>\n",
              "      <td>3.5</td>\n",
              "      <td>1.4</td>\n",
              "      <td>0.2</td>\n",
              "      <td>setosa</td>\n",
              "    </tr>\n",
              "    <tr>\n",
              "      <th>1</th>\n",
              "      <td>4.9</td>\n",
              "      <td>3.0</td>\n",
              "      <td>1.4</td>\n",
              "      <td>0.2</td>\n",
              "      <td>setosa</td>\n",
              "    </tr>\n",
              "    <tr>\n",
              "      <th>2</th>\n",
              "      <td>4.7</td>\n",
              "      <td>3.2</td>\n",
              "      <td>1.3</td>\n",
              "      <td>0.2</td>\n",
              "      <td>setosa</td>\n",
              "    </tr>\n",
              "    <tr>\n",
              "      <th>3</th>\n",
              "      <td>4.6</td>\n",
              "      <td>3.1</td>\n",
              "      <td>1.5</td>\n",
              "      <td>0.2</td>\n",
              "      <td>setosa</td>\n",
              "    </tr>\n",
              "    <tr>\n",
              "      <th>4</th>\n",
              "      <td>5.0</td>\n",
              "      <td>3.6</td>\n",
              "      <td>1.4</td>\n",
              "      <td>0.2</td>\n",
              "      <td>setosa</td>\n",
              "    </tr>\n",
              "  </tbody>\n",
              "</table>\n",
              "</div>\n",
              "      <button class=\"colab-df-convert\" onclick=\"convertToInteractive('df-e8f730f1-101a-413f-8034-799c547d4af8')\"\n",
              "              title=\"Convert this dataframe to an interactive table.\"\n",
              "              style=\"display:none;\">\n",
              "        \n",
              "  <svg xmlns=\"http://www.w3.org/2000/svg\" height=\"24px\"viewBox=\"0 0 24 24\"\n",
              "       width=\"24px\">\n",
              "    <path d=\"M0 0h24v24H0V0z\" fill=\"none\"/>\n",
              "    <path d=\"M18.56 5.44l.94 2.06.94-2.06 2.06-.94-2.06-.94-.94-2.06-.94 2.06-2.06.94zm-11 1L8.5 8.5l.94-2.06 2.06-.94-2.06-.94L8.5 2.5l-.94 2.06-2.06.94zm10 10l.94 2.06.94-2.06 2.06-.94-2.06-.94-.94-2.06-.94 2.06-2.06.94z\"/><path d=\"M17.41 7.96l-1.37-1.37c-.4-.4-.92-.59-1.43-.59-.52 0-1.04.2-1.43.59L10.3 9.45l-7.72 7.72c-.78.78-.78 2.05 0 2.83L4 21.41c.39.39.9.59 1.41.59.51 0 1.02-.2 1.41-.59l7.78-7.78 2.81-2.81c.8-.78.8-2.07 0-2.86zM5.41 20L4 18.59l7.72-7.72 1.47 1.35L5.41 20z\"/>\n",
              "  </svg>\n",
              "      </button>\n",
              "      \n",
              "  <style>\n",
              "    .colab-df-container {\n",
              "      display:flex;\n",
              "      flex-wrap:wrap;\n",
              "      gap: 12px;\n",
              "    }\n",
              "\n",
              "    .colab-df-convert {\n",
              "      background-color: #E8F0FE;\n",
              "      border: none;\n",
              "      border-radius: 50%;\n",
              "      cursor: pointer;\n",
              "      display: none;\n",
              "      fill: #1967D2;\n",
              "      height: 32px;\n",
              "      padding: 0 0 0 0;\n",
              "      width: 32px;\n",
              "    }\n",
              "\n",
              "    .colab-df-convert:hover {\n",
              "      background-color: #E2EBFA;\n",
              "      box-shadow: 0px 1px 2px rgba(60, 64, 67, 0.3), 0px 1px 3px 1px rgba(60, 64, 67, 0.15);\n",
              "      fill: #174EA6;\n",
              "    }\n",
              "\n",
              "    [theme=dark] .colab-df-convert {\n",
              "      background-color: #3B4455;\n",
              "      fill: #D2E3FC;\n",
              "    }\n",
              "\n",
              "    [theme=dark] .colab-df-convert:hover {\n",
              "      background-color: #434B5C;\n",
              "      box-shadow: 0px 1px 3px 1px rgba(0, 0, 0, 0.15);\n",
              "      filter: drop-shadow(0px 1px 2px rgba(0, 0, 0, 0.3));\n",
              "      fill: #FFFFFF;\n",
              "    }\n",
              "  </style>\n",
              "\n",
              "      <script>\n",
              "        const buttonEl =\n",
              "          document.querySelector('#df-e8f730f1-101a-413f-8034-799c547d4af8 button.colab-df-convert');\n",
              "        buttonEl.style.display =\n",
              "          google.colab.kernel.accessAllowed ? 'block' : 'none';\n",
              "\n",
              "        async function convertToInteractive(key) {\n",
              "          const element = document.querySelector('#df-e8f730f1-101a-413f-8034-799c547d4af8');\n",
              "          const dataTable =\n",
              "            await google.colab.kernel.invokeFunction('convertToInteractive',\n",
              "                                                     [key], {});\n",
              "          if (!dataTable) return;\n",
              "\n",
              "          const docLinkHtml = 'Like what you see? Visit the ' +\n",
              "            '<a target=\"_blank\" href=https://colab.research.google.com/notebooks/data_table.ipynb>data table notebook</a>'\n",
              "            + ' to learn more about interactive tables.';\n",
              "          element.innerHTML = '';\n",
              "          dataTable['output_type'] = 'display_data';\n",
              "          await google.colab.output.renderOutput(dataTable, element);\n",
              "          const docLink = document.createElement('div');\n",
              "          docLink.innerHTML = docLinkHtml;\n",
              "          element.appendChild(docLink);\n",
              "        }\n",
              "      </script>\n",
              "    </div>\n",
              "  </div>\n",
              "  "
            ]
          },
          "metadata": {},
          "execution_count": 2
        }
      ]
    },
    {
      "cell_type": "code",
      "source": [
        "x = df.iloc[ :,:-1].values\n",
        "y = df.iloc[ :,-1].values"
      ],
      "metadata": {
        "id": "CJsBbkZUGzn5"
      },
      "execution_count": 7,
      "outputs": []
    },
    {
      "cell_type": "markdown",
      "source": [
        "### Encoding"
      ],
      "metadata": {
        "id": "rDqXJuK-HoO3"
      }
    },
    {
      "cell_type": "code",
      "source": [
        "lebel = LabelEncoder()\n",
        "y1 = lebel.fit_transform(y)"
      ],
      "metadata": {
        "id": "xBh0ZK9sHAGu"
      },
      "execution_count": 12,
      "outputs": []
    },
    {
      "cell_type": "markdown",
      "source": [
        "### OnehotEncoding"
      ],
      "metadata": {
        "id": "884UdvS3H6fp"
      }
    },
    {
      "cell_type": "code",
      "source": [
        "Y = pd.get_dummies(y1).values\n",
        "# Y"
      ],
      "metadata": {
        "id": "2BfK545NHbh9"
      },
      "execution_count": 15,
      "outputs": []
    },
    {
      "cell_type": "code",
      "source": [
        "## Data Spliting\n",
        "from sklearn.model_selection import train_test_split\n",
        "x_train, x_test, y_train, y_test = train_test_split (x, Y, test_size = 0.20, random_state = 15)"
      ],
      "metadata": {
        "id": "XECkS60oH2x3"
      },
      "execution_count": 19,
      "outputs": []
    },
    {
      "cell_type": "code",
      "source": [
        "model = Sequential()\n",
        "model.add(Dense(4, input_shape = (4,) , activation = 'relu'))\n",
        "model.add(Dense(3, activation = 'sigmoid'))"
      ],
      "metadata": {
        "id": "ZW94LJzdIM3R"
      },
      "execution_count": 21,
      "outputs": []
    },
    {
      "cell_type": "code",
      "source": [
        "model.compile(optimizer = 'Adam', loss = 'categorical_crossentropy', metrics = ['accuracy'])"
      ],
      "metadata": {
        "id": "X04M5hLjIcFK"
      },
      "execution_count": 22,
      "outputs": []
    },
    {
      "cell_type": "code",
      "source": [
        "model.fit()"
      ],
      "metadata": {
        "id": "HRyt-PLtLDKx"
      },
      "execution_count": null,
      "outputs": []
    },
    {
      "cell_type": "code",
      "source": [
        "model.fit(x_train, y_train, batch_size = 20, epochs= 150)"
      ],
      "metadata": {
        "colab": {
          "base_uri": "https://localhost:8080/"
        },
        "id": "I4c5UfdLKm5Z",
        "outputId": "c6952653-98eb-4ea0-aa3f-f76619f2b28d"
      },
      "execution_count": 24,
      "outputs": [
        {
          "output_type": "stream",
          "name": "stdout",
          "text": [
            "Epoch 1/150\n",
            "6/6 [==============================] - 2s 3ms/step - loss: 2.8297 - accuracy: 0.3083\n",
            "Epoch 2/150\n",
            "6/6 [==============================] - 0s 3ms/step - loss: 2.6815 - accuracy: 0.3083\n",
            "Epoch 3/150\n",
            "6/6 [==============================] - 0s 3ms/step - loss: 2.5391 - accuracy: 0.3083\n",
            "Epoch 4/150\n",
            "6/6 [==============================] - 0s 3ms/step - loss: 2.3775 - accuracy: 0.3083\n",
            "Epoch 5/150\n",
            "6/6 [==============================] - 0s 3ms/step - loss: 2.2116 - accuracy: 0.3083\n",
            "Epoch 6/150\n",
            "6/6 [==============================] - 0s 3ms/step - loss: 2.0452 - accuracy: 0.3083\n",
            "Epoch 7/150\n",
            "6/6 [==============================] - 0s 3ms/step - loss: 1.8880 - accuracy: 0.3083\n",
            "Epoch 8/150\n",
            "6/6 [==============================] - 0s 3ms/step - loss: 1.7368 - accuracy: 0.3083\n",
            "Epoch 9/150\n",
            "6/6 [==============================] - 0s 3ms/step - loss: 1.6151 - accuracy: 0.3083\n",
            "Epoch 10/150\n",
            "6/6 [==============================] - 0s 3ms/step - loss: 1.4964 - accuracy: 0.3167\n",
            "Epoch 11/150\n",
            "6/6 [==============================] - 0s 3ms/step - loss: 1.4002 - accuracy: 0.3250\n",
            "Epoch 12/150\n",
            "6/6 [==============================] - 0s 3ms/step - loss: 1.3186 - accuracy: 0.3667\n",
            "Epoch 13/150\n",
            "6/6 [==============================] - 0s 3ms/step - loss: 1.2563 - accuracy: 0.4333\n",
            "Epoch 14/150\n",
            "6/6 [==============================] - 0s 5ms/step - loss: 1.2093 - accuracy: 0.4500\n",
            "Epoch 15/150\n",
            "6/6 [==============================] - 0s 3ms/step - loss: 1.1684 - accuracy: 0.5167\n",
            "Epoch 16/150\n",
            "6/6 [==============================] - 0s 3ms/step - loss: 1.1420 - accuracy: 0.5583\n",
            "Epoch 17/150\n",
            "6/6 [==============================] - 0s 3ms/step - loss: 1.1159 - accuracy: 0.5500\n",
            "Epoch 18/150\n",
            "6/6 [==============================] - 0s 3ms/step - loss: 1.0971 - accuracy: 0.5500\n",
            "Epoch 19/150\n",
            "6/6 [==============================] - 0s 3ms/step - loss: 1.0791 - accuracy: 0.5417\n",
            "Epoch 20/150\n",
            "6/6 [==============================] - 0s 3ms/step - loss: 1.0611 - accuracy: 0.5500\n",
            "Epoch 21/150\n",
            "6/6 [==============================] - 0s 3ms/step - loss: 1.0484 - accuracy: 0.5667\n",
            "Epoch 22/150\n",
            "6/6 [==============================] - 0s 2ms/step - loss: 1.0336 - accuracy: 0.5667\n",
            "Epoch 23/150\n",
            "6/6 [==============================] - 0s 2ms/step - loss: 1.0206 - accuracy: 0.5750\n",
            "Epoch 24/150\n",
            "6/6 [==============================] - 0s 2ms/step - loss: 1.0091 - accuracy: 0.5750\n",
            "Epoch 25/150\n",
            "6/6 [==============================] - 0s 3ms/step - loss: 0.9959 - accuracy: 0.5750\n",
            "Epoch 26/150\n",
            "6/6 [==============================] - 0s 3ms/step - loss: 0.9860 - accuracy: 0.5750\n",
            "Epoch 27/150\n",
            "6/6 [==============================] - 0s 3ms/step - loss: 0.9753 - accuracy: 0.5750\n",
            "Epoch 28/150\n",
            "6/6 [==============================] - 0s 4ms/step - loss: 0.9637 - accuracy: 0.5750\n",
            "Epoch 29/150\n",
            "6/6 [==============================] - 0s 3ms/step - loss: 0.9542 - accuracy: 0.5750\n",
            "Epoch 30/150\n",
            "6/6 [==============================] - 0s 3ms/step - loss: 0.9449 - accuracy: 0.5750\n",
            "Epoch 31/150\n",
            "6/6 [==============================] - 0s 3ms/step - loss: 0.9363 - accuracy: 0.5750\n",
            "Epoch 32/150\n",
            "6/6 [==============================] - 0s 3ms/step - loss: 0.9273 - accuracy: 0.5750\n",
            "Epoch 33/150\n",
            "6/6 [==============================] - 0s 3ms/step - loss: 0.9186 - accuracy: 0.5750\n",
            "Epoch 34/150\n",
            "6/6 [==============================] - 0s 3ms/step - loss: 0.9114 - accuracy: 0.5750\n",
            "Epoch 35/150\n",
            "6/6 [==============================] - 0s 3ms/step - loss: 0.9044 - accuracy: 0.5750\n",
            "Epoch 36/150\n",
            "6/6 [==============================] - 0s 3ms/step - loss: 0.8959 - accuracy: 0.5750\n",
            "Epoch 37/150\n",
            "6/6 [==============================] - 0s 3ms/step - loss: 0.8888 - accuracy: 0.5750\n",
            "Epoch 38/150\n",
            "6/6 [==============================] - 0s 2ms/step - loss: 0.8821 - accuracy: 0.5750\n",
            "Epoch 39/150\n",
            "6/6 [==============================] - 0s 2ms/step - loss: 0.8765 - accuracy: 0.5750\n",
            "Epoch 40/150\n",
            "6/6 [==============================] - 0s 3ms/step - loss: 0.8695 - accuracy: 0.5750\n",
            "Epoch 41/150\n",
            "6/6 [==============================] - 0s 2ms/step - loss: 0.8633 - accuracy: 0.5750\n",
            "Epoch 42/150\n",
            "6/6 [==============================] - 0s 3ms/step - loss: 0.8579 - accuracy: 0.5750\n",
            "Epoch 43/150\n",
            "6/6 [==============================] - 0s 3ms/step - loss: 0.8519 - accuracy: 0.5750\n",
            "Epoch 44/150\n",
            "6/6 [==============================] - 0s 3ms/step - loss: 0.8457 - accuracy: 0.5750\n",
            "Epoch 45/150\n",
            "6/6 [==============================] - 0s 2ms/step - loss: 0.8407 - accuracy: 0.5750\n",
            "Epoch 46/150\n",
            "6/6 [==============================] - 0s 2ms/step - loss: 0.8352 - accuracy: 0.5750\n",
            "Epoch 47/150\n",
            "6/6 [==============================] - 0s 3ms/step - loss: 0.8305 - accuracy: 0.5750\n",
            "Epoch 48/150\n",
            "6/6 [==============================] - 0s 2ms/step - loss: 0.8252 - accuracy: 0.5750\n",
            "Epoch 49/150\n",
            "6/6 [==============================] - 0s 3ms/step - loss: 0.8202 - accuracy: 0.5750\n",
            "Epoch 50/150\n",
            "6/6 [==============================] - 0s 3ms/step - loss: 0.8160 - accuracy: 0.5833\n",
            "Epoch 51/150\n",
            "6/6 [==============================] - 0s 3ms/step - loss: 0.8112 - accuracy: 0.5833\n",
            "Epoch 52/150\n",
            "6/6 [==============================] - 0s 2ms/step - loss: 0.8063 - accuracy: 0.5833\n",
            "Epoch 53/150\n",
            "6/6 [==============================] - 0s 3ms/step - loss: 0.8023 - accuracy: 0.5833\n",
            "Epoch 54/150\n",
            "6/6 [==============================] - 0s 3ms/step - loss: 0.7979 - accuracy: 0.5917\n",
            "Epoch 55/150\n",
            "6/6 [==============================] - 0s 3ms/step - loss: 0.7937 - accuracy: 0.6000\n",
            "Epoch 56/150\n",
            "6/6 [==============================] - 0s 4ms/step - loss: 0.7892 - accuracy: 0.6083\n",
            "Epoch 57/150\n",
            "6/6 [==============================] - 0s 6ms/step - loss: 0.7852 - accuracy: 0.6333\n",
            "Epoch 58/150\n",
            "6/6 [==============================] - 0s 3ms/step - loss: 0.7813 - accuracy: 0.6583\n",
            "Epoch 59/150\n",
            "6/6 [==============================] - 0s 3ms/step - loss: 0.7772 - accuracy: 0.6833\n",
            "Epoch 60/150\n",
            "6/6 [==============================] - 0s 3ms/step - loss: 0.7730 - accuracy: 0.7083\n",
            "Epoch 61/150\n",
            "6/6 [==============================] - 0s 3ms/step - loss: 0.7694 - accuracy: 0.7250\n",
            "Epoch 62/150\n",
            "6/6 [==============================] - 0s 2ms/step - loss: 0.7656 - accuracy: 0.7417\n",
            "Epoch 63/150\n",
            "6/6 [==============================] - 0s 2ms/step - loss: 0.7618 - accuracy: 0.7833\n",
            "Epoch 64/150\n",
            "6/6 [==============================] - 0s 2ms/step - loss: 0.7582 - accuracy: 0.7917\n",
            "Epoch 65/150\n",
            "6/6 [==============================] - 0s 3ms/step - loss: 0.7542 - accuracy: 0.8250\n",
            "Epoch 66/150\n",
            "6/6 [==============================] - 0s 3ms/step - loss: 0.7506 - accuracy: 0.8500\n",
            "Epoch 67/150\n",
            "6/6 [==============================] - 0s 3ms/step - loss: 0.7472 - accuracy: 0.8667\n",
            "Epoch 68/150\n",
            "6/6 [==============================] - 0s 2ms/step - loss: 0.7434 - accuracy: 0.8667\n",
            "Epoch 69/150\n",
            "6/6 [==============================] - 0s 2ms/step - loss: 0.7402 - accuracy: 0.8917\n",
            "Epoch 70/150\n",
            "6/6 [==============================] - 0s 4ms/step - loss: 0.7370 - accuracy: 0.9083\n",
            "Epoch 71/150\n",
            "6/6 [==============================] - 0s 3ms/step - loss: 0.7333 - accuracy: 0.9083\n",
            "Epoch 72/150\n",
            "6/6 [==============================] - 0s 2ms/step - loss: 0.7297 - accuracy: 0.9083\n",
            "Epoch 73/150\n",
            "6/6 [==============================] - 0s 3ms/step - loss: 0.7264 - accuracy: 0.9167\n",
            "Epoch 74/150\n",
            "6/6 [==============================] - 0s 3ms/step - loss: 0.7229 - accuracy: 0.9333\n",
            "Epoch 75/150\n",
            "6/6 [==============================] - 0s 2ms/step - loss: 0.7195 - accuracy: 0.9333\n",
            "Epoch 76/150\n",
            "6/6 [==============================] - 0s 3ms/step - loss: 0.7162 - accuracy: 0.9333\n",
            "Epoch 77/150\n",
            "6/6 [==============================] - 0s 3ms/step - loss: 0.7137 - accuracy: 0.9417\n",
            "Epoch 78/150\n",
            "6/6 [==============================] - 0s 3ms/step - loss: 0.7100 - accuracy: 0.9417\n",
            "Epoch 79/150\n",
            "6/6 [==============================] - 0s 3ms/step - loss: 0.7062 - accuracy: 0.9333\n",
            "Epoch 80/150\n",
            "6/6 [==============================] - 0s 3ms/step - loss: 0.7034 - accuracy: 0.9250\n",
            "Epoch 81/150\n",
            "6/6 [==============================] - 0s 3ms/step - loss: 0.7000 - accuracy: 0.9250\n",
            "Epoch 82/150\n",
            "6/6 [==============================] - 0s 3ms/step - loss: 0.6971 - accuracy: 0.9250\n",
            "Epoch 83/150\n",
            "6/6 [==============================] - 0s 3ms/step - loss: 0.6941 - accuracy: 0.9417\n",
            "Epoch 84/150\n",
            "6/6 [==============================] - 0s 3ms/step - loss: 0.6907 - accuracy: 0.9333\n",
            "Epoch 85/150\n",
            "6/6 [==============================] - 0s 3ms/step - loss: 0.6882 - accuracy: 0.9417\n",
            "Epoch 86/150\n",
            "6/6 [==============================] - 0s 3ms/step - loss: 0.6845 - accuracy: 0.9417\n",
            "Epoch 87/150\n",
            "6/6 [==============================] - 0s 3ms/step - loss: 0.6815 - accuracy: 0.9417\n",
            "Epoch 88/150\n",
            "6/6 [==============================] - 0s 3ms/step - loss: 0.6788 - accuracy: 0.9333\n",
            "Epoch 89/150\n",
            "6/6 [==============================] - 0s 3ms/step - loss: 0.6754 - accuracy: 0.9333\n",
            "Epoch 90/150\n",
            "6/6 [==============================] - 0s 3ms/step - loss: 0.6725 - accuracy: 0.9250\n",
            "Epoch 91/150\n",
            "6/6 [==============================] - 0s 3ms/step - loss: 0.6696 - accuracy: 0.9333\n",
            "Epoch 92/150\n",
            "6/6 [==============================] - 0s 3ms/step - loss: 0.6667 - accuracy: 0.9333\n",
            "Epoch 93/150\n",
            "6/6 [==============================] - 0s 3ms/step - loss: 0.6636 - accuracy: 0.9333\n",
            "Epoch 94/150\n",
            "6/6 [==============================] - 0s 3ms/step - loss: 0.6608 - accuracy: 0.9333\n",
            "Epoch 95/150\n",
            "6/6 [==============================] - 0s 3ms/step - loss: 0.6578 - accuracy: 0.9250\n",
            "Epoch 96/150\n",
            "6/6 [==============================] - 0s 2ms/step - loss: 0.6548 - accuracy: 0.9333\n",
            "Epoch 97/150\n",
            "6/6 [==============================] - 0s 4ms/step - loss: 0.6523 - accuracy: 0.9417\n",
            "Epoch 98/150\n",
            "6/6 [==============================] - 0s 3ms/step - loss: 0.6489 - accuracy: 0.9417\n",
            "Epoch 99/150\n",
            "6/6 [==============================] - 0s 3ms/step - loss: 0.6461 - accuracy: 0.9417\n",
            "Epoch 100/150\n",
            "6/6 [==============================] - 0s 4ms/step - loss: 0.6433 - accuracy: 0.9333\n",
            "Epoch 101/150\n",
            "6/6 [==============================] - 0s 3ms/step - loss: 0.6404 - accuracy: 0.9333\n",
            "Epoch 102/150\n",
            "6/6 [==============================] - 0s 3ms/step - loss: 0.6376 - accuracy: 0.9333\n",
            "Epoch 103/150\n",
            "6/6 [==============================] - 0s 3ms/step - loss: 0.6347 - accuracy: 0.9333\n",
            "Epoch 104/150\n",
            "6/6 [==============================] - 0s 3ms/step - loss: 0.6322 - accuracy: 0.9333\n",
            "Epoch 105/150\n",
            "6/6 [==============================] - 0s 3ms/step - loss: 0.6291 - accuracy: 0.9333\n",
            "Epoch 106/150\n",
            "6/6 [==============================] - 0s 3ms/step - loss: 0.6263 - accuracy: 0.9333\n",
            "Epoch 107/150\n",
            "6/6 [==============================] - 0s 3ms/step - loss: 0.6233 - accuracy: 0.9333\n",
            "Epoch 108/150\n",
            "6/6 [==============================] - 0s 3ms/step - loss: 0.6207 - accuracy: 0.9333\n",
            "Epoch 109/150\n",
            "6/6 [==============================] - 0s 3ms/step - loss: 0.6180 - accuracy: 0.9333\n",
            "Epoch 110/150\n",
            "6/6 [==============================] - 0s 3ms/step - loss: 0.6158 - accuracy: 0.9250\n",
            "Epoch 111/150\n",
            "6/6 [==============================] - 0s 3ms/step - loss: 0.6127 - accuracy: 0.9250\n",
            "Epoch 112/150\n",
            "6/6 [==============================] - 0s 3ms/step - loss: 0.6103 - accuracy: 0.9333\n",
            "Epoch 113/150\n",
            "6/6 [==============================] - 0s 3ms/step - loss: 0.6077 - accuracy: 0.9333\n",
            "Epoch 114/150\n",
            "6/6 [==============================] - 0s 3ms/step - loss: 0.6057 - accuracy: 0.9250\n",
            "Epoch 115/150\n",
            "6/6 [==============================] - 0s 2ms/step - loss: 0.6026 - accuracy: 0.9250\n",
            "Epoch 116/150\n",
            "6/6 [==============================] - 0s 2ms/step - loss: 0.6001 - accuracy: 0.9333\n",
            "Epoch 117/150\n",
            "6/6 [==============================] - 0s 3ms/step - loss: 0.5979 - accuracy: 0.9333\n",
            "Epoch 118/150\n",
            "6/6 [==============================] - 0s 3ms/step - loss: 0.5952 - accuracy: 0.9333\n",
            "Epoch 119/150\n",
            "6/6 [==============================] - 0s 3ms/step - loss: 0.5929 - accuracy: 0.9333\n",
            "Epoch 120/150\n",
            "6/6 [==============================] - 0s 3ms/step - loss: 0.5905 - accuracy: 0.9333\n",
            "Epoch 121/150\n",
            "6/6 [==============================] - 0s 3ms/step - loss: 0.5892 - accuracy: 0.9250\n",
            "Epoch 122/150\n",
            "6/6 [==============================] - 0s 3ms/step - loss: 0.5855 - accuracy: 0.9333\n",
            "Epoch 123/150\n",
            "6/6 [==============================] - 0s 3ms/step - loss: 0.5830 - accuracy: 0.9333\n",
            "Epoch 124/150\n",
            "6/6 [==============================] - 0s 2ms/step - loss: 0.5807 - accuracy: 0.9333\n",
            "Epoch 125/150\n",
            "6/6 [==============================] - 0s 3ms/step - loss: 0.5783 - accuracy: 0.9333\n",
            "Epoch 126/150\n",
            "6/6 [==============================] - 0s 2ms/step - loss: 0.5760 - accuracy: 0.9333\n",
            "Epoch 127/150\n",
            "6/6 [==============================] - 0s 3ms/step - loss: 0.5738 - accuracy: 0.9333\n",
            "Epoch 128/150\n",
            "6/6 [==============================] - 0s 3ms/step - loss: 0.5713 - accuracy: 0.9333\n",
            "Epoch 129/150\n",
            "6/6 [==============================] - 0s 3ms/step - loss: 0.5688 - accuracy: 0.9333\n",
            "Epoch 130/150\n",
            "6/6 [==============================] - 0s 3ms/step - loss: 0.5664 - accuracy: 0.9333\n",
            "Epoch 131/150\n",
            "6/6 [==============================] - 0s 3ms/step - loss: 0.5643 - accuracy: 0.9333\n",
            "Epoch 132/150\n",
            "6/6 [==============================] - 0s 3ms/step - loss: 0.5618 - accuracy: 0.9250\n",
            "Epoch 133/150\n",
            "6/6 [==============================] - 0s 4ms/step - loss: 0.5600 - accuracy: 0.9250\n",
            "Epoch 134/150\n",
            "6/6 [==============================] - 0s 3ms/step - loss: 0.5570 - accuracy: 0.9333\n",
            "Epoch 135/150\n",
            "6/6 [==============================] - 0s 3ms/step - loss: 0.5549 - accuracy: 0.9333\n",
            "Epoch 136/150\n",
            "6/6 [==============================] - 0s 3ms/step - loss: 0.5526 - accuracy: 0.9417\n",
            "Epoch 137/150\n",
            "6/6 [==============================] - 0s 3ms/step - loss: 0.5504 - accuracy: 0.9333\n",
            "Epoch 138/150\n",
            "6/6 [==============================] - 0s 3ms/step - loss: 0.5480 - accuracy: 0.9333\n",
            "Epoch 139/150\n",
            "6/6 [==============================] - 0s 3ms/step - loss: 0.5459 - accuracy: 0.9417\n",
            "Epoch 140/150\n",
            "6/6 [==============================] - 0s 3ms/step - loss: 0.5436 - accuracy: 0.9417\n",
            "Epoch 141/150\n",
            "6/6 [==============================] - 0s 3ms/step - loss: 0.5411 - accuracy: 0.9333\n",
            "Epoch 142/150\n",
            "6/6 [==============================] - 0s 3ms/step - loss: 0.5388 - accuracy: 0.9417\n",
            "Epoch 143/150\n",
            "6/6 [==============================] - 0s 2ms/step - loss: 0.5367 - accuracy: 0.9417\n",
            "Epoch 144/150\n",
            "6/6 [==============================] - 0s 3ms/step - loss: 0.5344 - accuracy: 0.9417\n",
            "Epoch 145/150\n",
            "6/6 [==============================] - 0s 3ms/step - loss: 0.5322 - accuracy: 0.9333\n",
            "Epoch 146/150\n",
            "6/6 [==============================] - 0s 3ms/step - loss: 0.5306 - accuracy: 0.9333\n",
            "Epoch 147/150\n",
            "6/6 [==============================] - 0s 3ms/step - loss: 0.5277 - accuracy: 0.9417\n",
            "Epoch 148/150\n",
            "6/6 [==============================] - 0s 3ms/step - loss: 0.5257 - accuracy: 0.9333\n",
            "Epoch 149/150\n",
            "6/6 [==============================] - 0s 3ms/step - loss: 0.5234 - accuracy: 0.9333\n",
            "Epoch 150/150\n",
            "6/6 [==============================] - 0s 3ms/step - loss: 0.5213 - accuracy: 0.9417\n"
          ]
        },
        {
          "output_type": "execute_result",
          "data": {
            "text/plain": [
              "<keras.callbacks.History at 0x7ff3fc53b2d0>"
            ]
          },
          "metadata": {},
          "execution_count": 24
        }
      ]
    },
    {
      "cell_type": "code",
      "source": [
        "y_pred = model.predict(x_test)"
      ],
      "metadata": {
        "id": "YhCgIHK-K-9P"
      },
      "execution_count": 25,
      "outputs": []
    },
    {
      "cell_type": "code",
      "source": [
        "y_pred"
      ],
      "metadata": {
        "colab": {
          "base_uri": "https://localhost:8080/"
        },
        "id": "0ECcUMyELRsT",
        "outputId": "5d5acf9c-f041-48e6-836e-31353d4158dd"
      },
      "execution_count": 26,
      "outputs": [
        {
          "output_type": "execute_result",
          "data": {
            "text/plain": [
              "array([[0.6415068 , 0.44131023, 0.3895004 ],\n",
              "       [0.34941396, 0.645704  , 0.6170701 ],\n",
              "       [0.3132465 , 0.69068664, 0.5815015 ],\n",
              "       [0.6176004 , 0.47585288, 0.3848221 ],\n",
              "       [0.642596  , 0.4547298 , 0.40065455],\n",
              "       [0.30915815, 0.6835887 , 0.6005868 ],\n",
              "       [0.12936747, 0.51972336, 0.9033983 ],\n",
              "       [0.5100836 , 0.66226965, 0.43936285],\n",
              "       [0.34966815, 0.5966126 , 0.63171387],\n",
              "       [0.16735727, 0.6241901 , 0.80441296],\n",
              "       [0.24171257, 0.6059181 , 0.7567704 ],\n",
              "       [0.3703008 , 0.7298532 , 0.5239337 ],\n",
              "       [0.38160267, 0.74836886, 0.5033969 ],\n",
              "       [0.40397963, 0.7620337 , 0.43401575],\n",
              "       [0.1705119 , 0.4813653 , 0.8793233 ],\n",
              "       [0.61219305, 0.48358932, 0.38378307],\n",
              "       [0.37547377, 0.702774  , 0.5191265 ],\n",
              "       [0.10575342, 0.416877  , 0.9325485 ],\n",
              "       [0.6222844 , 0.46912688, 0.38572755],\n",
              "       [0.20055261, 0.7647548 , 0.6870533 ],\n",
              "       [0.4040216 , 0.7190101 , 0.5075275 ],\n",
              "       [0.63960195, 0.44408095, 0.38912216],\n",
              "       [0.32678092, 0.73103166, 0.5842874 ],\n",
              "       [0.45743835, 0.67201436, 0.45679778],\n",
              "       [0.6415068 , 0.44131023, 0.3895004 ],\n",
              "       [0.6422812 , 0.44807202, 0.395399  ],\n",
              "       [0.17420352, 0.593661  , 0.8358248 ],\n",
              "       [0.16195342, 0.45489725, 0.8878049 ],\n",
              "       [0.10895988, 0.73103523, 0.8390305 ],\n",
              "       [0.30703557, 0.66136384, 0.642273  ]], dtype=float32)"
            ]
          },
          "metadata": {},
          "execution_count": 26
        }
      ]
    },
    {
      "cell_type": "code",
      "source": [
        "y_test"
      ],
      "metadata": {
        "colab": {
          "base_uri": "https://localhost:8080/"
        },
        "id": "HQ3sZN-2LSuT",
        "outputId": "e378f46a-b3a9-4d87-dd2b-bdc72aac6c6d"
      },
      "execution_count": 27,
      "outputs": [
        {
          "output_type": "execute_result",
          "data": {
            "text/plain": [
              "array([[1, 0, 0],\n",
              "       [0, 1, 0],\n",
              "       [0, 1, 0],\n",
              "       [1, 0, 0],\n",
              "       [1, 0, 0],\n",
              "       [0, 1, 0],\n",
              "       [0, 0, 1],\n",
              "       [0, 1, 0],\n",
              "       [0, 1, 0],\n",
              "       [0, 0, 1],\n",
              "       [0, 0, 1],\n",
              "       [0, 1, 0],\n",
              "       [0, 1, 0],\n",
              "       [0, 1, 0],\n",
              "       [0, 0, 1],\n",
              "       [1, 0, 0],\n",
              "       [0, 1, 0],\n",
              "       [0, 0, 1],\n",
              "       [1, 0, 0],\n",
              "       [0, 0, 1],\n",
              "       [0, 1, 0],\n",
              "       [1, 0, 0],\n",
              "       [0, 1, 0],\n",
              "       [0, 1, 0],\n",
              "       [1, 0, 0],\n",
              "       [1, 0, 0],\n",
              "       [0, 0, 1],\n",
              "       [0, 0, 1],\n",
              "       [0, 0, 1],\n",
              "       [0, 1, 0]], dtype=uint8)"
            ]
          },
          "metadata": {},
          "execution_count": 27
        }
      ]
    },
    {
      "cell_type": "code",
      "source": [
        "y_test_class = np.argmax(y_test, axis = 1 )"
      ],
      "metadata": {
        "id": "STc4jxxoLbuE"
      },
      "execution_count": 32,
      "outputs": []
    },
    {
      "cell_type": "code",
      "source": [
        "y_pred_class = np.argmax(y_pred, axis = 1 )"
      ],
      "metadata": {
        "id": "qExnDTSPL0UA"
      },
      "execution_count": 34,
      "outputs": []
    },
    {
      "cell_type": "code",
      "source": [
        "y_test_class"
      ],
      "metadata": {
        "colab": {
          "base_uri": "https://localhost:8080/"
        },
        "id": "aFbtggaZLk2v",
        "outputId": "2f404033-870a-4591-c935-ce709a253e5a"
      },
      "execution_count": 33,
      "outputs": [
        {
          "output_type": "execute_result",
          "data": {
            "text/plain": [
              "array([0, 1, 1, 0, 0, 1, 2, 1, 1, 2, 2, 1, 1, 1, 2, 0, 1, 2, 0, 2, 1, 0,\n",
              "       1, 1, 0, 0, 2, 2, 2, 1])"
            ]
          },
          "metadata": {},
          "execution_count": 33
        }
      ]
    },
    {
      "cell_type": "code",
      "source": [
        "y_pred_class"
      ],
      "metadata": {
        "colab": {
          "base_uri": "https://localhost:8080/"
        },
        "id": "9tpWk1Z6LxO3",
        "outputId": "23c123d2-39fa-485d-c7cc-5946371133d0"
      },
      "execution_count": 35,
      "outputs": [
        {
          "output_type": "execute_result",
          "data": {
            "text/plain": [
              "array([0, 1, 1, 0, 0, 1, 2, 1, 2, 2, 2, 1, 1, 1, 2, 0, 1, 2, 0, 1, 1, 0,\n",
              "       1, 1, 0, 0, 2, 2, 2, 1])"
            ]
          },
          "metadata": {},
          "execution_count": 35
        }
      ]
    },
    {
      "cell_type": "code",
      "source": [
        "from sklearn.metrics import accuracy_score, classification_report, confusion_matrix"
      ],
      "metadata": {
        "id": "OQdf9qWPL7HD"
      },
      "execution_count": 37,
      "outputs": []
    },
    {
      "cell_type": "code",
      "source": [
        "print(classification_report (y_pred_class, y_test_class))"
      ],
      "metadata": {
        "colab": {
          "base_uri": "https://localhost:8080/"
        },
        "id": "rPM09M_-NTGs",
        "outputId": "9c4db691-60c0-46dd-b270-a7887a67592c"
      },
      "execution_count": 39,
      "outputs": [
        {
          "output_type": "stream",
          "name": "stdout",
          "text": [
            "              precision    recall  f1-score   support\n",
            "\n",
            "           0       1.00      1.00      1.00         8\n",
            "           1       0.92      0.92      0.92        13\n",
            "           2       0.89      0.89      0.89         9\n",
            "\n",
            "    accuracy                           0.93        30\n",
            "   macro avg       0.94      0.94      0.94        30\n",
            "weighted avg       0.93      0.93      0.93        30\n",
            "\n"
          ]
        }
      ]
    },
    {
      "cell_type": "code",
      "source": [
        "print(confusion_matrix (y_pred_class, y_test_class))"
      ],
      "metadata": {
        "colab": {
          "base_uri": "https://localhost:8080/"
        },
        "id": "RKJz5aV6NpRx",
        "outputId": "f526bc73-1491-4ec2-e34b-bb86c99bb3cb"
      },
      "execution_count": 40,
      "outputs": [
        {
          "output_type": "stream",
          "name": "stdout",
          "text": [
            "[[ 8  0  0]\n",
            " [ 0 12  1]\n",
            " [ 0  1  8]]\n"
          ]
        }
      ]
    },
    {
      "cell_type": "code",
      "source": [
        "(8+12+8)/30"
      ],
      "metadata": {
        "colab": {
          "base_uri": "https://localhost:8080/"
        },
        "id": "UBTmFxIzNyGA",
        "outputId": "d94ce2d5-1528-4dfe-9dfe-c4e8a3e5879e"
      },
      "execution_count": 41,
      "outputs": [
        {
          "output_type": "execute_result",
          "data": {
            "text/plain": [
              "0.9333333333333333"
            ]
          },
          "metadata": {},
          "execution_count": 41
        }
      ]
    },
    {
      "cell_type": "code",
      "source": [
        "accuracy_score(y_pred_class, y_test_class)"
      ],
      "metadata": {
        "colab": {
          "base_uri": "https://localhost:8080/"
        },
        "id": "kJp1B1enOAfq",
        "outputId": "55570786-cae9-483f-df62-e8707fad2b9a"
      },
      "execution_count": 43,
      "outputs": [
        {
          "output_type": "execute_result",
          "data": {
            "text/plain": [
              "0.9333333333333333"
            ]
          },
          "metadata": {},
          "execution_count": 43
        }
      ]
    },
    {
      "cell_type": "code",
      "source": [
        ""
      ],
      "metadata": {
        "id": "q-KPI34DODRL"
      },
      "execution_count": null,
      "outputs": []
    }
  ]
}